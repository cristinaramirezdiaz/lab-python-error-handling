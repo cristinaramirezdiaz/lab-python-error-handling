{
 "cells": [
  {
   "cell_type": "markdown",
   "id": "25d7736c-ba17-4aff-b6bb-66eba20fbf4e",
   "metadata": {},
   "source": [
    "# Lab | Error Handling"
   ]
  },
  {
   "cell_type": "markdown",
   "id": "bc99b386-7508-47a0-bcdb-d969deaf6c8b",
   "metadata": {},
   "source": [
    "## Exercise: Error Handling for Managing Customer Orders\n",
    "\n",
    "The implementation of your code for managing customer orders assumes that the user will always enter a valid input. \n",
    "\n",
    "For example, we could modify the `initialize_inventory` function to include error handling.\n",
    "   - If the user enters an invalid quantity (e.g., a negative value or a non-numeric value), display an error message and ask them to re-enter the quantity for that product.\n",
    "   - Use a try-except block to handle the error and continue prompting the user until a valid quantity is entered.\n",
    "\n",
    "```python\n",
    "# Step 1: Define the function for initializing the inventory with error handling\n",
    "def initialize_inventory(products):\n",
    "    inventory = {}\n",
    "    for product in products:\n",
    "        valid_quantity = False\n",
    "        while not valid_quantity:\n",
    "            try:\n",
    "                quantity = int(input(f\"Enter the quantity of {product}s available: \"))\n",
    "                if quantity < 0:\n",
    "                    raise ValueError(\"Invalid quantity! Please enter a non-negative value.\")\n",
    "                valid_quantity = True\n",
    "            except ValueError as error:\n",
    "                print(f\"Error: {error}\")\n",
    "        inventory[product] = quantity\n",
    "    return inventory\n",
    "\n",
    "# Or, in another way:\n",
    "\n",
    "def initialize_inventory(products):\n",
    "    inventory = {}\n",
    "    for product in products:\n",
    "        valid_input = False\n",
    "        while not valid_input:\n",
    "            try:\n",
    "                quantity = int(input(f\"Enter the quantity of {product}s available: \"))\n",
    "                if quantity >= 0:\n",
    "                    inventory[product] = quantity\n",
    "                    valid_input = True\n",
    "                else:\n",
    "                    print(\"Quantity cannot be negative. Please enter a valid quantity.\")\n",
    "            except ValueError:\n",
    "                print(\"Invalid input. Please enter a valid quantity.\")\n",
    "    return inventory\n",
    "```\n",
    "\n",
    "Let's enhance your code by implementing error handling to handle invalid inputs.\n",
    "\n",
    "Follow the steps below to complete the exercise:\n",
    "\n",
    "2. Modify the `calculate_total_price` function to include error handling.\n",
    "   - If the user enters an invalid price (e.g., a negative value or a non-numeric value), display an error message and ask them to re-enter the price for that product.\n",
    "   - Use a try-except block to handle the error and continue prompting the user until a valid price is entered.\n",
    "\n",
    "3. Modify the `get_customer_orders` function to include error handling.\n",
    "   - If the user enters an invalid number of orders (e.g., a negative value or a non-numeric value), display an error message and ask them to re-enter the number of orders.\n",
    "   - If the user enters an invalid product name (e.g., a product name that is not in the inventory), or that doesn't have stock available, display an error message and ask them to re-enter the product name. *Hint: you will need to pass inventory as a parameter*\n",
    "   - Use a try-except block to handle the error and continue prompting the user until a valid product name is entered.\n",
    "\n",
    "4. Test your code by running the program and deliberately entering invalid quantities and product names. Make sure the error handling mechanism works as expected.\n"
   ]
  },
  {
   "cell_type": "code",
   "execution_count": 3,
   "id": "83102208",
   "metadata": {},
   "outputs": [],
   "source": [
    "def initialize_inventory(products):\n",
    "    inventory = {}\n",
    "    for product in products:\n",
    "        valid_input = False\n",
    "        while not valid_input:\n",
    "            try:\n",
    "                quantity = int(input(f\"Enter the quantity of {product}s available: \"))\n",
    "                if quantity >= 0:\n",
    "                    inventory[product] = quantity\n",
    "                    valid_input = True\n",
    "                else:\n",
    "                    print(\"Quantity cannot be negative. Please enter a valid quantity.\")\n",
    "            except ValueError:\n",
    "                print(\"Invalid input. Please enter a valid quantity.\")\n",
    "    return inventory"
   ]
  },
  {
   "cell_type": "code",
   "execution_count": null,
   "id": "5c7f0994",
   "metadata": {},
   "outputs": [],
   "source": [
    "\"\"\"\"\n",
    "2. Modify the `calculate_total_price` function to include error handling.\n",
    "   - If the user enters an invalid price (e.g., a negative value or a non-numeric \n",
    "   value), display an error message and ask them to re-enter the price for that \n",
    "   product.\n",
    "   - Use a try-except block to handle the error and continue prompting the user \n",
    "   until a valid price is entered.\n",
    "\"\"\""
   ]
  },
  {
   "cell_type": "code",
   "execution_count": 6,
   "id": "0ebf4b0e",
   "metadata": {},
   "outputs": [],
   "source": [
    "\n",
    "def calculate_total_price(customer_orders):\n",
    "    number_of_products = len(customer_orders)\n",
    "    for product in customer_orders:\n",
    "        valid_price = False\n",
    "        while not valid_price:\n",
    "            try:\n",
    "                prices = {float(input(\"Precio: \")) for i in range(number_of_products)}\n",
    "                sum_prices = sum(prices)\n",
    "                valid_price = True\n",
    "            except (ValueError, TypeError):\n",
    "                print(\"No se pudo procesar el valor. Por favor, introduce un valor numérico.\")\n",
    "        return sum_prices\n",
    "    "
   ]
  },
  {
   "cell_type": "code",
   "execution_count": 23,
   "id": "e63c219b",
   "metadata": {},
   "outputs": [
    {
     "data": {
      "text/plain": [
       "6.0"
      ]
     },
     "execution_count": 23,
     "metadata": {},
     "output_type": "execute_result"
    }
   ],
   "source": [
    "lista = [\"book\", \"hat\", \"mug\"]\n",
    "\n",
    "resultado =calculate_total_price(lista)\n",
    "resultado"
   ]
  },
  {
   "cell_type": "code",
   "execution_count": null,
   "id": "7eedfe72",
   "metadata": {},
   "outputs": [],
   "source": [
    "\"\"\"\"\n",
    "3. Modify the `get_customer_orders` function to include error handling.\n",
    "   - If the user enters an invalid number of orders (e.g., a negative value \n",
    "   or a non-numeric value), display an error message and ask them to re-enter \n",
    "   the number of orders.\n",
    "   - If the user enters an invalid product name (e.g., a product name that is not \n",
    "   in the inventory), or that doesn't have stock available, display an error message \n",
    "   and ask them to re-enter the product name. *Hint: you will need to pass inventory \n",
    "   as a parameter*\n",
    "   - Use a try-except block to handle the error and continue prompting the user \n",
    "   until a valid product name is entered.\n",
    "\n",
    "\"\"\""
   ]
  },
  {
   "cell_type": "code",
   "execution_count": 7,
   "id": "46748935",
   "metadata": {},
   "outputs": [],
   "source": [
    "def get_customer_orders(inventory):\n",
    "    valid_number_of_orders = False\n",
    "    while not valid_number_of_orders:\n",
    "        try:\n",
    "            number_of_orders = int(input(\"Introduce el número de pedidos: \"))\n",
    "            if number_of_orders < 0:\n",
    "                print(\"Por favor, introduce un valor numérico positivo.\")\n",
    "            else:\n",
    "                valid_number_of_orders = True\n",
    "        except ValueError:\n",
    "                print(\"No se puede procesar el valor. Por favor, introduce un valor numérico positivo.\")\n",
    "    ordered_products = []\n",
    "    for _ in range(number_of_orders):\n",
    "        valid_number_of_orders = False\n",
    "        while not valid_number_of_orders:\n",
    "            try:\n",
    "                products = input(\"Introduce el producto: \")\n",
    "                if products in inventory and inventory[products] > 0:\n",
    "                     inventory[products] -= 1\n",
    "                     ordered_products.append(products)\n",
    "                     valid_number_of_orders = True\n",
    "                else:\n",
    "                    print(\"Producto no válido o sin stock. Por favor seleccione otro producto.\")\n",
    "            except Exception:\n",
    "                    print(\"Por favor introduce un producto válido y que se encuentre en el inventario\")\n",
    "    return ordered_products"
   ]
  },
  {
   "cell_type": "code",
   "execution_count": null,
   "id": "3c9afb05",
   "metadata": {},
   "outputs": [],
   "source": [
    "\"\"\"\n",
    "4. Test your code by running the program and deliberately entering invalid quantities and product names. \n",
    "Make sure the error handling mechanism works as expected.\n",
    "\"\"\""
   ]
  },
  {
   "cell_type": "code",
   "execution_count": 4,
   "id": "e18262c5",
   "metadata": {},
   "outputs": [
    {
     "data": {
      "text/plain": [
       "{'book': 8, 'hat': 9, 'mug': 7, 'keychain': 7, 't-shirt': 8}"
      ]
     },
     "execution_count": 4,
     "metadata": {},
     "output_type": "execute_result"
    }
   ],
   "source": [
    "productos_disponibles = [\"book\", \"hat\", \"mug\", \"keychain\", \"t-shirt\"]\n",
    "\n",
    "inventario = initialize_inventory(productos_disponibles)\n",
    "\n",
    "inventario"
   ]
  },
  {
   "cell_type": "code",
   "execution_count": 8,
   "id": "063e7b51",
   "metadata": {},
   "outputs": [
    {
     "data": {
      "text/plain": [
       "250.0"
      ]
     },
     "execution_count": 8,
     "metadata": {},
     "output_type": "execute_result"
    }
   ],
   "source": [
    "precio_total = calculate_total_price(inventario)\n",
    "\n",
    "precio_total"
   ]
  },
  {
   "cell_type": "code",
   "execution_count": 10,
   "id": "0e9de5cf",
   "metadata": {},
   "outputs": [
    {
     "name": "stdout",
     "output_type": "stream",
     "text": [
      "Producto no válido o sin stock. Por favor seleccione otro producto.\n",
      "Producto no válido o sin stock. Por favor seleccione otro producto.\n"
     ]
    },
    {
     "data": {
      "text/plain": [
       "['book', 'hat']"
      ]
     },
     "execution_count": 10,
     "metadata": {},
     "output_type": "execute_result"
    }
   ],
   "source": [
    "pedido = get_customer_orders(inventario)\n",
    "\n",
    "pedido"
   ]
  },
  {
   "cell_type": "code",
   "execution_count": null,
   "id": "2e69c426",
   "metadata": {},
   "outputs": [],
   "source": []
  }
 ],
 "metadata": {
  "kernelspec": {
   "display_name": "Python 3 (ipykernel)",
   "language": "python",
   "name": "python3"
  },
  "language_info": {
   "codemirror_mode": {
    "name": "ipython",
    "version": 3
   },
   "file_extension": ".py",
   "mimetype": "text/x-python",
   "name": "python",
   "nbconvert_exporter": "python",
   "pygments_lexer": "ipython3",
   "version": "3.12.4"
  }
 },
 "nbformat": 4,
 "nbformat_minor": 5
}
